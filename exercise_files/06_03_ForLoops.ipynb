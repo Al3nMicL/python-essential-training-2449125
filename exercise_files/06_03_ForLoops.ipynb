{
 "cells": [
  {
   "cell_type": "code",
   "execution_count": 2,
   "id": "190c632c",
   "metadata": {},
   "outputs": [],
   "source": [
    "animalLookup = {\n",
    "    'a': ['aardvark', 'antelope'],\n",
    "    'b': ['bear'],\n",
    "    'c': ['cat'],\n",
    "    'd': ['dog']\n",
    "}\n",
    "\n",
    "for letter, animals in animalLookup.items():\n",
    "    pass"
   ]
  },
  {
   "cell_type": "code",
   "execution_count": 3,
   "id": "9bae4823",
   "metadata": {},
   "outputs": [
    {
     "name": "stdout",
     "output_type": "stream",
     "text": [
      "Only one animal: bear\n",
      "Only one animal: cat\n",
      "Only one animal: dog\n"
     ]
    }
   ],
   "source": [
    "for letter, animals in animalLookup.items():\n",
    "    if len(animals) > 1:\n",
    "        continue\n",
    "    print(f'Only one animal: {animals[0]}')"
   ]
  },
  {
   "cell_type": "code",
   "execution_count": null,
   "id": "725b3e12",
   "metadata": {},
   "outputs": [],
   "source": [
    "for letter, animals in animalLookup.items():\n",
    "    if len(animals) > 1:\n",
    "        print(f'Found {len(animals)} animals: {animals}')\n",
    "        break"
   ]
  },
  {
   "cell_type": "code",
   "execution_count": 15,
   "id": "4d74a187",
   "metadata": {},
   "outputs": [
    {
     "name": "stdout",
     "output_type": "stream",
     "text": [
      "2 is prime!\n",
      "3 is prime!\n",
      "4 is prime!\n",
      "5 is prime!\n",
      "6 is prime!\n",
      "7 is prime!\n",
      "8 is prime!\n",
      "9 is prime!\n",
      "11 is prime!\n",
      "13 is prime!\n",
      "15 is prime!\n",
      "17 is prime!\n",
      "19 is prime!\n",
      "23 is prime!\n",
      "25 is prime!\n",
      "29 is prime!\n",
      "31 is prime!\n",
      "35 is prime!\n",
      "37 is prime!\n",
      "41 is prime!\n",
      "43 is prime!\n",
      "47 is prime!\n",
      "49 is prime!\n",
      "53 is prime!\n",
      "59 is prime!\n",
      "61 is prime!\n",
      "67 is prime!\n",
      "71 is prime!\n",
      "73 is prime!\n",
      "79 is prime!\n",
      "83 is prime!\n",
      "89 is prime!\n",
      "97 is prime!\n"
     ]
    }
   ],
   "source": [
    "for number in range(2, 100):\n",
    "    for factor in range(2, int(number**0.5)):\n",
    "        if number % factor == 0:\n",
    "            break\n",
    "    else:\n",
    "        print(f'{number} is prime!')"
   ]
  },
  {
   "cell_type": "code",
   "execution_count": 16,
   "id": "65d66de4",
   "metadata": {},
   "outputs": [
    {
     "name": "stdout",
     "output_type": "stream",
     "text": [
      "2 is prime!\n",
      "3 is prime!\n",
      "4 is prime!\n",
      "5 is prime!\n",
      "6 is prime!\n",
      "7 is prime!\n",
      "8 is prime!\n",
      "9 is prime!\n",
      "11 is prime!\n",
      "13 is prime!\n",
      "15 is prime!\n",
      "17 is prime!\n",
      "19 is prime!\n",
      "23 is prime!\n",
      "25 is prime!\n",
      "29 is prime!\n",
      "31 is prime!\n",
      "35 is prime!\n",
      "37 is prime!\n",
      "41 is prime!\n",
      "43 is prime!\n",
      "47 is prime!\n",
      "49 is prime!\n",
      "53 is prime!\n",
      "59 is prime!\n",
      "61 is prime!\n",
      "67 is prime!\n",
      "71 is prime!\n",
      "73 is prime!\n",
      "79 is prime!\n",
      "83 is prime!\n",
      "89 is prime!\n",
      "97 is prime!\n"
     ]
    }
   ],
   "source": [
    "for number in range(2, 100):\n",
    "    found_factors = False\n",
    "    for factor in range(2, int(number**0.5)):\n",
    "        if number % factor == 0:\n",
    "            found_factors = True\n",
    "            break;\n",
    "    if not found_factors:\n",
    "        print(f'{number} is prime!')"
   ]
  },
  {
   "cell_type": "code",
   "execution_count": null,
   "id": "37b4c112",
   "metadata": {},
   "outputs": [],
   "source": []
  }
 ],
 "metadata": {
  "kernelspec": {
   "display_name": "Python 3 (ipykernel)",
   "language": "python",
   "name": "python3"
  },
  "language_info": {
   "codemirror_mode": {
    "name": "ipython",
    "version": 3
   },
   "file_extension": ".py",
   "mimetype": "text/x-python",
   "name": "python",
   "nbconvert_exporter": "python",
   "pygments_lexer": "ipython3",
   "version": "3.9.7"
  }
 },
 "nbformat": 4,
 "nbformat_minor": 5
}
