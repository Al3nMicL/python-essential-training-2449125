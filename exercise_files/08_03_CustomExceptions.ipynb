{
 "cells": [
  {
   "cell_type": "code",
   "execution_count": 2,
   "id": "a15ba290",
   "metadata": {},
   "outputs": [],
   "source": [
    "class CustomException(Exception):\n",
    "    pass"
   ]
  },
  {
   "cell_type": "code",
   "execution_count": 6,
   "id": "9a2a38d3",
   "metadata": {},
   "outputs": [
    {
     "ename": "CustomException",
     "evalue": "You called the causeError function!",
     "output_type": "error",
     "traceback": [
      "\u001b[0;31m---------------------------------------------------------------------------\u001b[0m",
      "\u001b[0;31mCustomException\u001b[0m                           Traceback (most recent call last)",
      "\u001b[0;32m/var/folders/rl/zhnnscv15898v3kns1822cw40000gn/T/ipykernel_13368/1828669416.py\u001b[0m in \u001b[0;36m<module>\u001b[0;34m\u001b[0m\n\u001b[1;32m      2\u001b[0m     \u001b[0;32mraise\u001b[0m \u001b[0mCustomException\u001b[0m\u001b[0;34m(\u001b[0m\u001b[0;34m'You called the causeError function!'\u001b[0m\u001b[0;34m)\u001b[0m\u001b[0;34m\u001b[0m\u001b[0;34m\u001b[0m\u001b[0m\n\u001b[1;32m      3\u001b[0m \u001b[0;34m\u001b[0m\u001b[0m\n\u001b[0;32m----> 4\u001b[0;31m \u001b[0mcauseError\u001b[0m\u001b[0;34m(\u001b[0m\u001b[0;34m)\u001b[0m\u001b[0;34m\u001b[0m\u001b[0;34m\u001b[0m\u001b[0m\n\u001b[0m",
      "\u001b[0;32m/var/folders/rl/zhnnscv15898v3kns1822cw40000gn/T/ipykernel_13368/1828669416.py\u001b[0m in \u001b[0;36mcauseError\u001b[0;34m()\u001b[0m\n\u001b[1;32m      1\u001b[0m \u001b[0;32mdef\u001b[0m \u001b[0mcauseError\u001b[0m\u001b[0;34m(\u001b[0m\u001b[0;34m)\u001b[0m\u001b[0;34m:\u001b[0m\u001b[0;34m\u001b[0m\u001b[0;34m\u001b[0m\u001b[0m\n\u001b[0;32m----> 2\u001b[0;31m     \u001b[0;32mraise\u001b[0m \u001b[0mCustomException\u001b[0m\u001b[0;34m(\u001b[0m\u001b[0;34m'You called the causeError function!'\u001b[0m\u001b[0;34m)\u001b[0m\u001b[0;34m\u001b[0m\u001b[0;34m\u001b[0m\u001b[0m\n\u001b[0m\u001b[1;32m      3\u001b[0m \u001b[0;34m\u001b[0m\u001b[0m\n\u001b[1;32m      4\u001b[0m \u001b[0mcauseError\u001b[0m\u001b[0;34m(\u001b[0m\u001b[0;34m)\u001b[0m\u001b[0;34m\u001b[0m\u001b[0;34m\u001b[0m\u001b[0m\n",
      "\u001b[0;31mCustomException\u001b[0m: You called the causeError function!"
     ]
    }
   ],
   "source": [
    "def causeError():\n",
    "    raise CustomException('You called the causeError function!')\n",
    "\n",
    "causeError()"
   ]
  },
  {
   "cell_type": "code",
   "execution_count": 9,
   "id": "93b796b7",
   "metadata": {},
   "outputs": [
    {
     "ename": "ServerError",
     "evalue": "Status code 500, The server messed up!",
     "output_type": "error",
     "traceback": [
      "\u001b[0;31m---------------------------------------------------------------------------\u001b[0m",
      "\u001b[0;31mServerError\u001b[0m                               Traceback (most recent call last)",
      "\u001b[0;32m/var/folders/rl/zhnnscv15898v3kns1822cw40000gn/T/ipykernel_13368/3227817918.py\u001b[0m in \u001b[0;36m<module>\u001b[0;34m\u001b[0m\n\u001b[1;32m     17\u001b[0m     \u001b[0;32mraise\u001b[0m \u001b[0mServerError\u001b[0m\u001b[0;34m(\u001b[0m\u001b[0;34m)\u001b[0m\u001b[0;34m\u001b[0m\u001b[0;34m\u001b[0m\u001b[0m\n\u001b[1;32m     18\u001b[0m \u001b[0;34m\u001b[0m\u001b[0m\n\u001b[0;32m---> 19\u001b[0;31m \u001b[0mthrowsServerError\u001b[0m\u001b[0;34m(\u001b[0m\u001b[0;34m)\u001b[0m\u001b[0;34m\u001b[0m\u001b[0;34m\u001b[0m\u001b[0m\n\u001b[0m",
      "\u001b[0;32m/var/folders/rl/zhnnscv15898v3kns1822cw40000gn/T/ipykernel_13368/3227817918.py\u001b[0m in \u001b[0;36mthrowsServerError\u001b[0;34m()\u001b[0m\n\u001b[1;32m     15\u001b[0m \u001b[0;34m\u001b[0m\u001b[0m\n\u001b[1;32m     16\u001b[0m \u001b[0;32mdef\u001b[0m \u001b[0mthrowsServerError\u001b[0m\u001b[0;34m(\u001b[0m\u001b[0;34m)\u001b[0m\u001b[0;34m:\u001b[0m\u001b[0;34m\u001b[0m\u001b[0;34m\u001b[0m\u001b[0m\n\u001b[0;32m---> 17\u001b[0;31m     \u001b[0;32mraise\u001b[0m \u001b[0mServerError\u001b[0m\u001b[0;34m(\u001b[0m\u001b[0;34m)\u001b[0m\u001b[0;34m\u001b[0m\u001b[0;34m\u001b[0m\u001b[0m\n\u001b[0m\u001b[1;32m     18\u001b[0m \u001b[0;34m\u001b[0m\u001b[0m\n\u001b[1;32m     19\u001b[0m \u001b[0mthrowsServerError\u001b[0m\u001b[0;34m(\u001b[0m\u001b[0;34m)\u001b[0m\u001b[0;34m\u001b[0m\u001b[0;34m\u001b[0m\u001b[0m\n",
      "\u001b[0;31mServerError\u001b[0m: Status code 500, The server messed up!"
     ]
    }
   ],
   "source": [
    "class HttpException(Exception):\n",
    "    statusCode\n",
    "    message\n",
    "    def __init__(self):\n",
    "        super().__init__(f'Status code {self.statusCode}, {self.message}')\n",
    "\n",
    "class NotFound(HttpException):\n",
    "    statusCode = 404\n",
    "    message = 'Resource was not found'\n",
    "\n",
    "class ServerError(HttpException):\n",
    "    statusCode = 500\n",
    "    message = 'The server messed up!'\n",
    "    \n",
    "    \n",
    "\n",
    "def raiseServerError():\n",
    "    raise ServerError()\n",
    "\n",
    "raiseServerError()"
   ]
  },
  {
   "cell_type": "code",
   "execution_count": null,
   "id": "25dd9991",
   "metadata": {},
   "outputs": [],
   "source": []
  }
 ],
 "metadata": {
  "kernelspec": {
   "display_name": "Python 3 (ipykernel)",
   "language": "python",
   "name": "python3"
  },
  "language_info": {
   "codemirror_mode": {
    "name": "ipython",
    "version": 3
   },
   "file_extension": ".py",
   "mimetype": "text/x-python",
   "name": "python",
   "nbconvert_exporter": "python",
   "pygments_lexer": "ipython3",
   "version": "3.9.7"
  }
 },
 "nbformat": 4,
 "nbformat_minor": 5
}
