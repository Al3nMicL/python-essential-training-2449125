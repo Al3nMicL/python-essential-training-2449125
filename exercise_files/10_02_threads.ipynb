{
 "cells": [
  {
   "cell_type": "code",
   "execution_count": 23,
   "id": "6d25c137",
   "metadata": {},
   "outputs": [],
   "source": [
    "import threading\n",
    "import time"
   ]
  },
  {
   "cell_type": "code",
   "execution_count": 33,
   "id": "845a81b6",
   "metadata": {},
   "outputs": [
    {
     "data": {
      "text/plain": [
       "[0, 1]"
      ]
     },
     "execution_count": 33,
     "metadata": {},
     "output_type": "execute_result"
    }
   ],
   "source": [
    "def longSquare(num):\n",
    "    time.sleep(1)\n",
    "    return num**2\n",
    "\n",
    "\n",
    "[longSquare(n) for n in range(0, 2)]\n",
    "    "
   ]
  },
  {
   "cell_type": "code",
   "execution_count": 34,
   "id": "22d60a3f",
   "metadata": {},
   "outputs": [],
   "source": [
    "t1 = threading.Thread(target=longSquare, args=(1,))\n",
    "t2 = threading.Thread(target=longSquare, args=(2,))\n",
    "\n",
    "t1.start()\n",
    "t2.start()\n",
    "t1.join()\n",
    "t2.join()\n"
   ]
  },
  {
   "cell_type": "code",
   "execution_count": 37,
   "id": "7f12a5ad",
   "metadata": {},
   "outputs": [
    {
     "name": "stdout",
     "output_type": "stream",
     "text": [
      "{1: 1, 2: 4}\n"
     ]
    }
   ],
   "source": [
    "def longSquare(num, results):\n",
    "    time.sleep(1)\n",
    "    results[num] = num**2\n",
    "\n",
    "\n",
    "results = {}\n",
    "\n",
    "t1 = threading.Thread(target=longSquare, args=(1, results))\n",
    "t2 = threading.Thread(target=longSquare, args=(2, results))\n",
    "\n",
    "t1.start()\n",
    "t2.start()\n",
    "t1.join()\n",
    "t2.join()\n",
    "\n",
    "print(results)"
   ]
  },
  {
   "cell_type": "code",
   "execution_count": 31,
   "id": "68b8cc19",
   "metadata": {},
   "outputs": [
    {
     "data": {
      "text/plain": [
       "tuple"
      ]
     },
     "execution_count": 31,
     "metadata": {},
     "output_type": "execute_result"
    }
   ],
   "source": [
    "a = (1,)\n",
    "type(a)"
   ]
  },
  {
   "cell_type": "code",
   "execution_count": 39,
   "id": "8de80f67",
   "metadata": {},
   "outputs": [
    {
     "name": "stdout",
     "output_type": "stream",
     "text": [
      "{0: 0, 2: 4, 1: 1, 5: 25, 12: 144, 6: 36, 7: 49, 3: 9, 9: 81, 10: 100, 4: 16, 8: 64, 11: 121, 13: 169, 16: 256, 20: 400, 18: 324, 19: 361, 21: 441, 22: 484, 23: 529, 25: 625, 27: 729, 28: 784, 26: 676, 14: 196, 24: 576, 17: 289, 15: 225, 29: 841, 30: 900, 32: 1024, 31: 961, 34: 1156, 38: 1444, 40: 1600, 51: 2601, 35: 1225, 49: 2401, 41: 1681, 33: 1089, 46: 2116, 47: 2209, 48: 2304, 52: 2704, 54: 2916, 57: 3249, 58: 3364, 59: 3481, 36: 1296, 50: 2500, 53: 2809, 55: 3025, 56: 3136, 42: 1764, 39: 1521, 43: 1849, 45: 2025, 44: 1936, 37: 1369, 61: 3721, 62: 3844, 77: 5929, 82: 6724, 97: 9409, 72: 5184, 71: 5041, 75: 5625, 74: 5476, 73: 5329, 79: 6241, 81: 6561, 84: 7056, 86: 7396, 87: 7569, 88: 7744, 93: 8649, 95: 9025, 98: 9604, 63: 3969, 60: 3600, 66: 4356, 76: 5776, 99: 9801, 80: 6400, 78: 6084, 85: 7225, 83: 6889, 91: 8281, 89: 7921, 90: 8100, 92: 8464, 65: 4225, 68: 4624, 69: 4761, 67: 4489, 96: 9216, 94: 8836, 70: 4900, 64: 4096}\n"
     ]
    }
   ],
   "source": [
    "results = {}\n",
    "threads = [threading.Thread(target=longSquare, args=(n, results)) for n in range(0, 100)]\n",
    "[t.start() for t in threads]\n",
    "[t.join() for t in threads]\n",
    "print(results)"
   ]
  },
  {
   "cell_type": "code",
   "execution_count": null,
   "id": "a13d5fb5",
   "metadata": {},
   "outputs": [],
   "source": []
  }
 ],
 "metadata": {
  "kernelspec": {
   "display_name": "Python 3 (ipykernel)",
   "language": "python",
   "name": "python3"
  },
  "language_info": {
   "codemirror_mode": {
    "name": "ipython",
    "version": 3
   },
   "file_extension": ".py",
   "mimetype": "text/x-python",
   "name": "python",
   "nbconvert_exporter": "python",
   "pygments_lexer": "ipython3",
   "version": "3.9.7"
  }
 },
 "nbformat": 4,
 "nbformat_minor": 5
}
