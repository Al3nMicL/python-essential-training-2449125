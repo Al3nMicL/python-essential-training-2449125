{
 "cells": [
  {
   "cell_type": "code",
   "execution_count": 5,
   "id": "b32cc670",
   "metadata": {},
   "outputs": [],
   "source": [
    "import time"
   ]
  },
  {
   "cell_type": "code",
   "execution_count": 1,
   "id": "aa713e8d",
   "metadata": {},
   "outputs": [
    {
     "data": {
      "text/plain": [
       "ZeroDivisionError('division by zero')"
      ]
     },
     "execution_count": 1,
     "metadata": {},
     "output_type": "execute_result"
    }
   ],
   "source": [
    "def causeError():\n",
    "    try:\n",
    "        return 1/0\n",
    "    except Exception as e:\n",
    "        return e\n",
    "\n",
    "causeError()"
   ]
  },
  {
   "cell_type": "code",
   "execution_count": 3,
   "id": "fe87bedd",
   "metadata": {},
   "outputs": [
    {
     "name": "stdout",
     "output_type": "stream",
     "text": [
      "There was some sort of error!\n"
     ]
    }
   ],
   "source": [
    "def causeError():\n",
    "    try:\n",
    "        return 1/0\n",
    "    except Exception:\n",
    "        print('There was some sort of error!')\n",
    "causeError()"
   ]
  },
  {
   "cell_type": "code",
   "execution_count": 4,
   "id": "0d0c5483",
   "metadata": {},
   "outputs": [
    {
     "name": "stdout",
     "output_type": "stream",
     "text": [
      "There was some sort of error!\n",
      "This will always execute\n"
     ]
    }
   ],
   "source": [
    "def causeError():\n",
    "    try:\n",
    "        return 1/0\n",
    "    except Exception:\n",
    "        print('There was some sort of error!')\n",
    "    finally:\n",
    "        print('This will always execute')\n",
    "\n",
    "causeError()"
   ]
  },
  {
   "cell_type": "code",
   "execution_count": 8,
   "id": "7757d71f",
   "metadata": {},
   "outputs": [
    {
     "name": "stdout",
     "output_type": "stream",
     "text": [
      "Function took 0.500697135925293 seconds to complete\n"
     ]
    },
    {
     "ename": "ZeroDivisionError",
     "evalue": "division by zero",
     "output_type": "error",
     "traceback": [
      "\u001b[0;31m---------------------------------------------------------------------------\u001b[0m",
      "\u001b[0;31mZeroDivisionError\u001b[0m                         Traceback (most recent call last)",
      "\u001b[0;32m/var/folders/rl/zhnnscv15898v3kns1822cw40000gn/T/ipykernel_12453/1689904873.py\u001b[0m in \u001b[0;36m<module>\u001b[0;34m\u001b[0m\n\u001b[1;32m      6\u001b[0m     \u001b[0;32mfinally\u001b[0m\u001b[0;34m:\u001b[0m\u001b[0;34m\u001b[0m\u001b[0;34m\u001b[0m\u001b[0m\n\u001b[1;32m      7\u001b[0m         \u001b[0mprint\u001b[0m\u001b[0;34m(\u001b[0m\u001b[0;34mf'Function took {time.time() - start} seconds to complete'\u001b[0m\u001b[0;34m)\u001b[0m\u001b[0;34m\u001b[0m\u001b[0;34m\u001b[0m\u001b[0m\n\u001b[0;32m----> 8\u001b[0;31m \u001b[0mcauseError\u001b[0m\u001b[0;34m(\u001b[0m\u001b[0;34m)\u001b[0m\u001b[0;34m\u001b[0m\u001b[0;34m\u001b[0m\u001b[0m\n\u001b[0m",
      "\u001b[0;32m/var/folders/rl/zhnnscv15898v3kns1822cw40000gn/T/ipykernel_12453/1689904873.py\u001b[0m in \u001b[0;36mcauseError\u001b[0;34m()\u001b[0m\n\u001b[1;32m      3\u001b[0m     \u001b[0;32mtry\u001b[0m\u001b[0;34m:\u001b[0m\u001b[0;34m\u001b[0m\u001b[0;34m\u001b[0m\u001b[0m\n\u001b[1;32m      4\u001b[0m         \u001b[0mtime\u001b[0m\u001b[0;34m.\u001b[0m\u001b[0msleep\u001b[0m\u001b[0;34m(\u001b[0m\u001b[0;36m0.5\u001b[0m\u001b[0;34m)\u001b[0m\u001b[0;34m\u001b[0m\u001b[0;34m\u001b[0m\u001b[0m\n\u001b[0;32m----> 5\u001b[0;31m         \u001b[0;32mreturn\u001b[0m \u001b[0;36m1\u001b[0m\u001b[0;34m/\u001b[0m\u001b[0;36m0\u001b[0m\u001b[0;34m\u001b[0m\u001b[0;34m\u001b[0m\u001b[0m\n\u001b[0m\u001b[1;32m      6\u001b[0m     \u001b[0;32mfinally\u001b[0m\u001b[0;34m:\u001b[0m\u001b[0;34m\u001b[0m\u001b[0;34m\u001b[0m\u001b[0m\n\u001b[1;32m      7\u001b[0m         \u001b[0mprint\u001b[0m\u001b[0;34m(\u001b[0m\u001b[0;34mf'Function took {time.time() - start} seconds to complete'\u001b[0m\u001b[0;34m)\u001b[0m\u001b[0;34m\u001b[0m\u001b[0;34m\u001b[0m\u001b[0m\n",
      "\u001b[0;31mZeroDivisionError\u001b[0m: division by zero"
     ]
    }
   ],
   "source": [
    "def causeError():\n",
    "    start = time.time()\n",
    "    try:\n",
    "        time.sleep(0.5)\n",
    "        return 1/0\n",
    "    finally:\n",
    "        print(f'Function took {time.time() - start} seconds to complete')\n",
    "causeError()"
   ]
  },
  {
   "cell_type": "code",
   "execution_count": 10,
   "id": "35f553f9",
   "metadata": {},
   "outputs": [
    {
     "name": "stdout",
     "output_type": "stream",
     "text": [
      "There was a divide by 0 error!\n",
      "Function took 0.5053439140319824 seconds to complete\n"
     ]
    }
   ],
   "source": [
    "def causeError():\n",
    "    start = time.time()\n",
    "    try:\n",
    "        time.sleep(0.5)\n",
    "        return 1/0\n",
    "    except ZeroDivisionError:\n",
    "        print('There was a divide by 0 error!')\n",
    "    except Exception:\n",
    "        print('There was some sort of error!')\n",
    "    finally:\n",
    "        print(f'Function took {time.time() - start} seconds to complete')\n",
    "\n",
    "causeError()"
   ]
  },
  {
   "cell_type": "code",
   "execution_count": 12,
   "id": "e300c1c7",
   "metadata": {},
   "outputs": [
    {
     "name": "stdout",
     "output_type": "stream",
     "text": [
      "Some other sort of error!\n"
     ]
    }
   ],
   "source": [
    "\n",
    "def causeError():\n",
    "    try:\n",
    "        return 1 + 'a'\n",
    "    except Exception:\n",
    "        print('Some other sort of error!')\n",
    "    except ZeroDivisionError:\n",
    "        print('There was a divide by 0 error!')\n",
    "    except TypeError:\n",
    "        print('There was a type error!')\n",
    "\n",
    "\n",
    "causeError()"
   ]
  },
  {
   "cell_type": "code",
   "execution_count": 30,
   "id": "431e9de0",
   "metadata": {},
   "outputs": [
    {
     "name": "stdout",
     "output_type": "stream",
     "text": [
      "There was a divide by 0 error!\n",
      "Some other sort of error!\n"
     ]
    }
   ],
   "source": [
    "def handleException(func):\n",
    "    def wrapper(*args):\n",
    "        try:\n",
    "            return func(*args)\n",
    "        except ZeroDivisionError:\n",
    "            print('There was a divide by 0 error!')\n",
    "        except TypeError:\n",
    "            print('There was a type error!')\n",
    "        except Exception:\n",
    "            print('Some other sort of error!')\n",
    "    return wrapper\n",
    "\n",
    "\n",
    "@handleException\n",
    "def causeError():\n",
    "    return 1/0\n",
    "\n",
    "@handleException\n",
    "def raiseError(n):\n",
    "    if n == 0:\n",
    "        raise Exception('n cannot be 0')\n",
    "    print(n)\n",
    "\n",
    "causeError()\n",
    "raiseError(0)"
   ]
  },
  {
   "cell_type": "code",
   "execution_count": null,
   "id": "83cf08cb",
   "metadata": {},
   "outputs": [],
   "source": []
  }
 ],
 "metadata": {
  "kernelspec": {
   "display_name": "Python 3 (ipykernel)",
   "language": "python",
   "name": "python3"
  },
  "language_info": {
   "codemirror_mode": {
    "name": "ipython",
    "version": 3
   },
   "file_extension": ".py",
   "mimetype": "text/x-python",
   "name": "python",
   "nbconvert_exporter": "python",
   "pygments_lexer": "ipython3",
   "version": "3.9.7"
  }
 },
 "nbformat": 4,
 "nbformat_minor": 5
}
