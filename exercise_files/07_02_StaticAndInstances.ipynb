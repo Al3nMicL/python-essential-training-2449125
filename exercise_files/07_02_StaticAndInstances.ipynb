{
 "cells": [
  {
   "cell_type": "code",
   "execution_count": 52,
   "id": "7c91b49e",
   "metadata": {},
   "outputs": [],
   "source": [
    "import math\n",
    "\n",
    "class Orientation:\n",
    "    pi = 3.141592653589793\n",
    "    def __init__(self, x_pos, y_pos, degrees):\n",
    "        self.x_pos = x_pos\n",
    "        self.y_pos = y_pos\n",
    "        self.x_dir, self.y_dir = self.getUnitVectorFromDegrees(degrees)\n",
    "        \n",
    "    def getNextPos(self):\n",
    "        return self.x_pos + self.x_dir, self.y_pos + self.y_dir\n",
    "    \n",
    "    @staticmethod\n",
    "    def getUnitVectorFromDegrees(degrees):\n",
    "        radians = (degrees/180) * Orientation.pi \n",
    "        return math.sin(radians), -math.cos(radians)\n",
    "\n"
   ]
  },
  {
   "cell_type": "code",
   "execution_count": 53,
   "id": "fec9469c",
   "metadata": {},
   "outputs": [
    {
     "data": {
      "text/plain": [
       "(5.965925826289069, 4.741180954897479)"
      ]
     },
     "execution_count": 53,
     "metadata": {},
     "output_type": "execute_result"
    }
   ],
   "source": [
    "my_orientation = Orientation(5, 5, 75)\n",
    "my_orientation.getNextPos()\n"
   ]
  },
  {
   "cell_type": "code",
   "execution_count": 35,
   "id": "fb773f95",
   "metadata": {},
   "outputs": [
    {
     "name": "stdout",
     "output_type": "stream",
     "text": [
      "3.141592653589793\n"
     ]
    },
    {
     "data": {
      "text/plain": [
       "(5.965925826289069, 4.741180954897479)"
      ]
     },
     "execution_count": 35,
     "metadata": {},
     "output_type": "execute_result"
    }
   ],
   "source": [
    "my_orientation.getNextPos()"
   ]
  },
  {
   "cell_type": "code",
   "execution_count": 32,
   "id": "ccb6141f",
   "metadata": {},
   "outputs": [
    {
     "data": {
      "text/plain": [
       "<bound method Orientation.getUnitVectorFromDegrees of <__main__.Orientation object at 0x11174cfa0>>"
      ]
     },
     "execution_count": 32,
     "metadata": {},
     "output_type": "execute_result"
    }
   ],
   "source": [
    "my_orientation.getUnitVectorFromDegrees"
   ]
  },
  {
   "cell_type": "code",
   "execution_count": null,
   "id": "d03fd623",
   "metadata": {},
   "outputs": [],
   "source": []
  }
 ],
 "metadata": {
  "kernelspec": {
   "display_name": "Python 3 (ipykernel)",
   "language": "python",
   "name": "python3"
  },
  "language_info": {
   "codemirror_mode": {
    "name": "ipython",
    "version": 3
   },
   "file_extension": ".py",
   "mimetype": "text/x-python",
   "name": "python",
   "nbconvert_exporter": "python",
   "pygments_lexer": "ipython3",
   "version": "3.9.7"
  }
 },
 "nbformat": 4,
 "nbformat_minor": 5
}
