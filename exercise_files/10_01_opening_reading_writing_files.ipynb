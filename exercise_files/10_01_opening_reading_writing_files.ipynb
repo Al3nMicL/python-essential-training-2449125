{
 "cells": [
  {
   "cell_type": "code",
   "execution_count": 19,
   "id": "fa026b60",
   "metadata": {},
   "outputs": [
    {
     "name": "stdout",
     "output_type": "stream",
     "text": [
      "Beautiful is better than ugly.\n",
      "Explicit is better than implicit.\n",
      "Simple is better than complex.\n",
      "Complex is better than complicated.\n",
      "Flat is better than nested.\n",
      "Sparse is better than dense.\n",
      "Readability counts.\n",
      "Special cases aren't special enough to break the rules.\n",
      "Although practicality beats purity.\n",
      "Errors should never pass silently.\n",
      "Unless explicitly silenced.\n",
      "In the face of ambiguity, refuse the temptation to guess.\n",
      "There should be one-- and preferably only one --obvious way to do it.\n",
      "Although that way may not be obvious at first unless you're Dutch.\n",
      "Now is better than never.\n",
      "Although never is often better than *right* now.\n",
      "If the implementation is hard to explain, it's a bad idea.\n",
      "If the implementation is easy to explain, it may be a good idea.\n",
      "Namespaces are one honking great idea -- let's do more of those!\n"
     ]
    }
   ],
   "source": [
    "# File reading\n",
    "f = open('09_01_file.txt', 'r')\n",
    "for line in f.readlines():\n",
    "    print(line.strip())"
   ]
  },
  {
   "cell_type": "code",
   "execution_count": 9,
   "id": "c174437b",
   "metadata": {},
   "outputs": [
    {
     "data": {
      "text/plain": [
       "'Explicit is better than implicit.\\n'"
      ]
     },
     "execution_count": 9,
     "metadata": {},
     "output_type": "execute_result"
    }
   ],
   "source": [
    "f.readline()"
   ]
  },
  {
   "cell_type": "code",
   "execution_count": 14,
   "id": "0d45417b",
   "metadata": {},
   "outputs": [
    {
     "data": {
      "text/plain": [
       "['Beautiful is better than ugly.\\n',\n",
       " 'Explicit is better than implicit.\\n',\n",
       " 'Simple is better than complex.\\n',\n",
       " 'Complex is better than complicated.\\n',\n",
       " 'Flat is better than nested.\\n',\n",
       " 'Sparse is better than dense.\\n',\n",
       " 'Readability counts.\\n',\n",
       " \"Special cases aren't special enough to break the rules.\\n\",\n",
       " 'Although practicality beats purity.\\n',\n",
       " 'Errors should never pass silently.\\n',\n",
       " 'Unless explicitly silenced.\\n',\n",
       " 'In the face of ambiguity, refuse the temptation to guess.\\n',\n",
       " 'There should be one-- and preferably only one --obvious way to do it.\\n',\n",
       " \"Although that way may not be obvious at first unless you're Dutch.\\n\",\n",
       " 'Now is better than never.\\n',\n",
       " 'Although never is often better than *right* now.\\n',\n",
       " \"If the implementation is hard to explain, it's a bad idea.\\n\",\n",
       " 'If the implementation is easy to explain, it may be a good idea.\\n',\n",
       " \"Namespaces are one honking great idea -- let's do more of those!\"]"
      ]
     },
     "execution_count": 14,
     "metadata": {},
     "output_type": "execute_result"
    }
   ],
   "source": [
    "f.readlines()"
   ]
  },
  {
   "cell_type": "code",
   "execution_count": 20,
   "id": "3869b0ca",
   "metadata": {},
   "outputs": [],
   "source": [
    "# writing to files\n",
    "\n",
    "f = open('09_01_output.txt', 'w')\n"
   ]
  },
  {
   "cell_type": "code",
   "execution_count": 21,
   "id": "bc7fa435",
   "metadata": {},
   "outputs": [
    {
     "data": {
      "text/plain": [
       "6"
      ]
     },
     "execution_count": 21,
     "metadata": {},
     "output_type": "execute_result"
    }
   ],
   "source": [
    "f.write('Line 1')\n",
    "f.write('Line 2')"
   ]
  },
  {
   "cell_type": "code",
   "execution_count": 22,
   "id": "e0cf4a9b",
   "metadata": {},
   "outputs": [],
   "source": [
    "f.close()"
   ]
  },
  {
   "cell_type": "code",
   "execution_count": 25,
   "id": "d3dfe478",
   "metadata": {},
   "outputs": [],
   "source": [
    "f = open('09_01_output.txt', 'a')\n",
    "f.write('Line 3\\n')\n",
    "f.write('Line 4\\n')\n",
    "f.close()"
   ]
  },
  {
   "cell_type": "code",
   "execution_count": 26,
   "id": "0ff2c659",
   "metadata": {},
   "outputs": [
    {
     "ename": "ValueError",
     "evalue": "I/O operation on closed file.",
     "output_type": "error",
     "traceback": [
      "\u001b[0;31m---------------------------------------------------------------------------\u001b[0m",
      "\u001b[0;31mValueError\u001b[0m                                Traceback (most recent call last)",
      "\u001b[0;32m/var/folders/rl/zhnnscv15898v3kns1822cw40000gn/T/ipykernel_881/1498842148.py\u001b[0m in \u001b[0;36m<module>\u001b[0;34m\u001b[0m\n\u001b[0;32m----> 1\u001b[0;31m \u001b[0mf\u001b[0m\u001b[0;34m.\u001b[0m\u001b[0mwrite\u001b[0m\u001b[0;34m(\u001b[0m\u001b[0;34m'asdf'\u001b[0m\u001b[0;34m)\u001b[0m\u001b[0;34m\u001b[0m\u001b[0;34m\u001b[0m\u001b[0m\n\u001b[0m",
      "\u001b[0;31mValueError\u001b[0m: I/O operation on closed file."
     ]
    }
   ],
   "source": [
    "f.write('asdf')"
   ]
  },
  {
   "cell_type": "code",
   "execution_count": 27,
   "id": "40bc7b70",
   "metadata": {},
   "outputs": [],
   "source": [
    "f1 = open('09_01_output.txt', 'a')\n",
    "f2 = open('09_01_output.txt', 'a')"
   ]
  },
  {
   "cell_type": "code",
   "execution_count": 28,
   "id": "e4c52cf5",
   "metadata": {},
   "outputs": [
    {
     "data": {
      "text/plain": [
       "3"
      ]
     },
     "execution_count": 28,
     "metadata": {},
     "output_type": "execute_result"
    }
   ],
   "source": [
    "f1.write('foo')\n",
    "f2.write('bar')"
   ]
  },
  {
   "cell_type": "code",
   "execution_count": 29,
   "id": "6f8c44dd",
   "metadata": {},
   "outputs": [],
   "source": [
    "f1.close()\n",
    "f2.close()"
   ]
  },
  {
   "cell_type": "code",
   "execution_count": 31,
   "id": "a4fbf35c",
   "metadata": {},
   "outputs": [
    {
     "name": "stdout",
     "output_type": "stream",
     "text": [
      "<_io.TextIOWrapper name='09_01_output.txt' mode='a' encoding='UTF-8'>\n"
     ]
    }
   ],
   "source": [
    "with open('09_01_output.txt', 'a') as f:\n",
    "    f.write('some stuff\\n')\n",
    "    f.write('some other stuff')\n",
    "    \n",
    "print(f)"
   ]
  },
  {
   "cell_type": "code",
   "execution_count": 32,
   "id": "42b670c3",
   "metadata": {},
   "outputs": [
    {
     "ename": "ValueError",
     "evalue": "I/O operation on closed file.",
     "output_type": "error",
     "traceback": [
      "\u001b[0;31m---------------------------------------------------------------------------\u001b[0m",
      "\u001b[0;31mValueError\u001b[0m                                Traceback (most recent call last)",
      "\u001b[0;32m/var/folders/rl/zhnnscv15898v3kns1822cw40000gn/T/ipykernel_881/2570841578.py\u001b[0m in \u001b[0;36m<module>\u001b[0;34m\u001b[0m\n\u001b[0;32m----> 1\u001b[0;31m \u001b[0mf\u001b[0m\u001b[0;34m.\u001b[0m\u001b[0mwrite\u001b[0m\u001b[0;34m(\u001b[0m\u001b[0;34m'PS. I forgot some stuff'\u001b[0m\u001b[0;34m)\u001b[0m\u001b[0;34m\u001b[0m\u001b[0;34m\u001b[0m\u001b[0m\n\u001b[0m",
      "\u001b[0;31mValueError\u001b[0m: I/O operation on closed file."
     ]
    }
   ],
   "source": [
    "f.write('PS. I forgot some stuff')"
   ]
  },
  {
   "cell_type": "code",
   "execution_count": null,
   "id": "e9f0c148",
   "metadata": {},
   "outputs": [],
   "source": []
  }
 ],
 "metadata": {
  "kernelspec": {
   "display_name": "Python 3 (ipykernel)",
   "language": "python",
   "name": "python3"
  },
  "language_info": {
   "codemirror_mode": {
    "name": "ipython",
    "version": 3
   },
   "file_extension": ".py",
   "mimetype": "text/x-python",
   "name": "python",
   "nbconvert_exporter": "python",
   "pygments_lexer": "ipython3",
   "version": "3.9.7"
  }
 },
 "nbformat": 4,
 "nbformat_minor": 5
}
