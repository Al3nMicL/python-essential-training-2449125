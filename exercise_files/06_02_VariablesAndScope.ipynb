{
 "cells": [
  {
   "cell_type": "code",
   "execution_count": 4,
   "id": "95fe5fb2",
   "metadata": {},
   "outputs": [
    {
     "name": "stdout",
     "output_type": "stream",
     "text": [
      "{'num1': 1, 'num2': 2, 'operator': 'sum'}\n"
     ]
    }
   ],
   "source": [
    "def performOperation(num1, num2, operator='sum'):\n",
    "    print(locals())\n",
    "\n",
    "performOperation(1,2, operator='sum')"
   ]
  },
  {
   "cell_type": "code",
   "execution_count": 5,
   "id": "3bd1d800",
   "metadata": {},
   "outputs": [
    {
     "ename": "NameError",
     "evalue": "name 'num1' is not defined",
     "output_type": "error",
     "traceback": [
      "\u001b[0;31m---------------------------------------------------------------------------\u001b[0m",
      "\u001b[0;31mNameError\u001b[0m                                 Traceback (most recent call last)",
      "\u001b[0;32m/var/folders/rl/zhnnscv15898v3kns1822cw40000gn/T/ipykernel_25695/4004058502.py\u001b[0m in \u001b[0;36m<module>\u001b[0;34m\u001b[0m\n\u001b[1;32m      2\u001b[0m     \u001b[0mprint\u001b[0m\u001b[0;34m(\u001b[0m\u001b[0mlocals\u001b[0m\u001b[0;34m(\u001b[0m\u001b[0;34m)\u001b[0m\u001b[0;34m)\u001b[0m\u001b[0;34m\u001b[0m\u001b[0;34m\u001b[0m\u001b[0m\n\u001b[1;32m      3\u001b[0m \u001b[0;34m\u001b[0m\u001b[0m\n\u001b[0;32m----> 4\u001b[0;31m \u001b[0mprint\u001b[0m\u001b[0;34m(\u001b[0m\u001b[0mnum1\u001b[0m\u001b[0;34m)\u001b[0m\u001b[0;34m\u001b[0m\u001b[0;34m\u001b[0m\u001b[0m\n\u001b[0m",
      "\u001b[0;31mNameError\u001b[0m: name 'num1' is not defined"
     ]
    }
   ],
   "source": [
    "def performOperation(num1, num2, operator='sum'):\n",
    "    print(locals())\n",
    "\n",
    "print(num1)"
   ]
  },
  {
   "cell_type": "code",
   "execution_count": 9,
   "id": "26f725af",
   "metadata": {},
   "outputs": [
    {
     "name": "stdout",
     "output_type": "stream",
     "text": [
      "{'varA': 1, 'varB': 2}\n",
      "{'varC': 3, 'varB': 4}\n"
     ]
    }
   ],
   "source": [
    "def function1(varA, varB):\n",
    "    print(locals())\n",
    "\n",
    "def function2(varC, varB):\n",
    "    print(locals())\n",
    "\n",
    "function1(1,2)\n",
    "function2(3,4)"
   ]
  },
  {
   "cell_type": "code",
   "execution_count": 28,
   "id": "6808b648",
   "metadata": {},
   "outputs": [
    {
     "name": "stdout",
     "output_type": "stream",
     "text": [
      "{'varA': 1, 'varB': 2, 'inner_function': <function function1.<locals>.inner_function at 0x106a21040>}\n",
      "inner_function local scope: {'varA': 123, 'varB': 456}\n"
     ]
    }
   ],
   "source": [
    "def function1(varA, varB):\n",
    "    \n",
    "    def inner_function(varA, varB):\n",
    "        print(f'inner_function local scope: {locals()}')\n",
    "    print(locals())\n",
    "    inner_function(123, 456)\n",
    "function1(1, 2)"
   ]
  },
  {
   "cell_type": "code",
   "execution_count": 19,
   "id": "9c1ef72d",
   "metadata": {},
   "outputs": [
    {
     "name": "stdout",
     "output_type": "stream",
     "text": [
      "{'varA': 1, 'varB': 2, 'function1_1': <function function1.<locals>.function1_1 at 0x106a21940>}\n",
      "Function 1_1 local scope: {'varA': 123, 'varB': 456}\n"
     ]
    }
   ],
   "source": [
    "\n",
    "def function1(varA, varB):\n",
    "    def inner_function(varA, varB):\n",
    "        print(f'Function 1_1 local scope: {locals()}')\n",
    "    print(locals())\n",
    "    function1_1(123, 456)\n",
    "    \n",
    "function1(1,2)"
   ]
  },
  {
   "cell_type": "code",
   "execution_count": null,
   "id": "224306e8",
   "metadata": {},
   "outputs": [],
   "source": []
  }
 ],
 "metadata": {
  "kernelspec": {
   "display_name": "Python 3 (ipykernel)",
   "language": "python",
   "name": "python3"
  },
  "language_info": {
   "codemirror_mode": {
    "name": "ipython",
    "version": 3
   },
   "file_extension": ".py",
   "mimetype": "text/x-python",
   "name": "python",
   "nbconvert_exporter": "python",
   "pygments_lexer": "ipython3",
   "version": "3.9.7"
  }
 },
 "nbformat": 4,
 "nbformat_minor": 5
}
